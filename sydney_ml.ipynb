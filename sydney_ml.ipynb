{
 "cells": [
  {
   "cell_type": "markdown",
   "id": "cb963994",
   "metadata": {},
   "source": [
    "# **Predictive ML Project**\n",
    "Author: Sydney Sailors\n",
    "\n",
    "GitHub project repository: [Datafun-07-ml](https://github.com/sydsailors/datfun-07-ml)\n"
   ]
  },
  {
   "cell_type": "code",
   "execution_count": 3,
   "id": "14f80ca6",
   "metadata": {},
   "outputs": [],
   "source": [
    "import pandas as pd\n",
    "from scipy import stats\n",
    "import seaborn as sns\n",
    "import matplotlib\n",
    "import numpy\n",
    "import jupyterlab"
   ]
  },
  {
   "cell_type": "markdown",
   "id": "f223887f",
   "metadata": {},
   "source": [
    "## Part 1 - Chart a Straight Line"
   ]
  }
 ],
 "metadata": {
  "kernelspec": {
   "display_name": "sklearn-env",
   "language": "python",
   "name": "python3"
  },
  "language_info": {
   "codemirror_mode": {
    "name": "ipython",
    "version": 3
   },
   "file_extension": ".py",
   "mimetype": "text/x-python",
   "name": "python",
   "nbconvert_exporter": "python",
   "pygments_lexer": "ipython3",
   "version": "3.13.3"
  }
 },
 "nbformat": 4,
 "nbformat_minor": 5
}
