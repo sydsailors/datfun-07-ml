{
 "cells": [
  {
   "cell_type": "markdown",
   "id": "cb963994",
   "metadata": {},
   "source": [
    "# Predictive ML Project\n",
    "Author: Sydney Sailors\n",
    "\n",
    "GitHub project repository: [Datafun-07-ml](https://github.com/sydsailors/datfun-07-ml)\n"
   ]
  }
 ],
 "metadata": {
  "language_info": {
   "name": "python"
  }
 },
 "nbformat": 4,
 "nbformat_minor": 5
}
